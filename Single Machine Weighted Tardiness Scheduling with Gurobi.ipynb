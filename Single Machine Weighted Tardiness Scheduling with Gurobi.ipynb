{
 "cells": [
  {
   "cell_type": "markdown",
   "id": "e951e5cb-06d2-4048-8e6c-e0f2f40f4b62",
   "metadata": {},
   "source": [
    "# Single Machine Weighted Tardiness Scheduling Problem\n",
    "\n",
    "This Jupyter Notebook demonstrates how to solve the **single machine weighted tardiness scheduling problem** using a Mixed-Integer Programming (MIP) model. The optimization is performed using Gurobi.\n"
   ]
  },
  {
   "cell_type": "markdown",
   "id": "55dc7a7b-1632-45db-b275-9e86afd581cd",
   "metadata": {},
   "source": [
    "## Import Libraries\n",
    "\n",
    "We import the required libraries, including:\n",
    "- **`gurobipy`** for optimization.\n",
    "- **`random`** to generate input data."
   ]
  },
  {
   "cell_type": "code",
   "execution_count": 19,
   "id": "a2ac4ef3-03be-4e1c-8520-5fc0104e55a5",
   "metadata": {},
   "outputs": [],
   "source": [
    "from gurobipy import Model, GRB\n",
    "import random"
   ]
  },
  {
   "cell_type": "markdown",
   "id": "f3169618-0a24-4fa7-9e12-c5e6bb01f941",
   "metadata": {},
   "source": [
    "## Define Input Data\n",
    "\n",
    "We define the following inputs:\n",
    "1. **Number of jobs (`n`)**: Total jobs to schedule.\n",
    "2. **Processing times (`p`)**: Randomly generated from a uniform distribution between 1 and 8.\n",
    "3. **Weights (`w`)**: Randomly generated from a uniform distribution between 1 and 6.\n",
    "4. **Due dates (`d`)**: Randomly generated from a uniform distribution between 5 and 30.\n",
    "5. **Release times (`r`)**: All set to 0.\n",
    "\n",
    "A **Big M** value is calculated as the sum of all processing times.\n"
   ]
  },
  {
   "cell_type": "code",
   "execution_count": 22,
   "id": "9c426aa3-ab63-496d-95b5-6733be350b6f",
   "metadata": {},
   "outputs": [
    {
     "name": "stdout",
     "output_type": "stream",
     "text": [
      "Processing times (p): [6, 3, 1, 5, 8, 3, 2, 4, 4, 8]\n",
      "Weights (w): [3, 4, 1, 5, 5, 3, 3, 4, 1, 4]\n",
      "Due dates (d): [18, 9, 19, 12, 14, 6, 18, 22, 12, 13]\n",
      "Release times (r): [0, 0, 0, 0, 0, 0, 0, 0, 0, 0]\n"
     ]
    }
   ],
   "source": [
    "# Number of jobs\n",
    "n = 10\n",
    "\n",
    "# Randomly generate processing times (U(1, 8))\n",
    "p = [random.randint(1, 8) for _ in range(n)]\n",
    "\n",
    "# Randomly generate weights (U(1, 6))\n",
    "w = [random.randint(1, 6) for _ in range(n)]\n",
    "\n",
    "# Randomly generate due dates (U(5, 30))\n",
    "d = [random.randint(5, 30) for _ in range(n)]\n",
    "\n",
    "# Set release times to zero for all jobs\n",
    "r = [0] * n\n",
    "\n",
    "# Big M value (can be the sum of all processing times)\n",
    "M = sum(p)\n",
    "\n",
    "# Print the input data\n",
    "print(\"Processing times (p):\", p)\n",
    "print(\"Weights (w):\", w)\n",
    "print(\"Due dates (d):\", d)\n",
    "print(\"Release times (r):\", r)\n"
   ]
  },
  {
   "cell_type": "markdown",
   "id": "f9401160-20f9-430a-ac9a-34edd89f6439",
   "metadata": {},
   "source": [
    "## Define and Solve the MIP Model\n",
    "\n",
    "Using Gurobi, we define the following:\n",
    "1. **Decision Variables**:\n",
    "    - Start times (`S`): When each job starts.\n",
    "    - Completion times (`C`): When each job finishes.\n",
    "    - Tardiness (`T`): The lateness of each job relative to its due date.\n",
    "    - Binary variables (`Y_{i,j}`):: \n",
    "    - \\( Y_{i,j} = 1 \\) if job \\( i \\) is processed before job \\( j \\), \n",
    "    - \\( Y_{i,j} = 0 \\) otherwise.\n",
    "2. **Objective**: Minimize the total weighted tardiness.\n",
    "3. **Constraints**:\n",
    "    - Completion time = Start time + Processing time.\n",
    "    - Start time ≥ Release time.\n",
    "    - Tardiness ≥ Max(0, Completion time - Due date).\n",
    "    - Non-overlapping jobs using Big-M constraints.\n"
   ]
  },
  {
   "cell_type": "code",
   "execution_count": 37,
   "id": "807fefff-1e3c-4c3c-879f-61b510c6224c",
   "metadata": {},
   "outputs": [
    {
     "name": "stdout",
     "output_type": "stream",
     "text": [
      "Gurobi Optimizer version 11.0.3 build v11.0.3rc0 (win64 - Windows 11.0 (22631.2))\n",
      "\n",
      "CPU model: 13th Gen Intel(R) Core(TM) i9-13900H, instruction set [SSE2|AVX|AVX2]\n",
      "Thread count: 14 physical cores, 20 logical processors, using up to 20 threads\n",
      "\n",
      "Optimize a model with 130 rows, 130 columns and 330 nonzeros\n",
      "Model fingerprint: 0x82be42c5\n",
      "Variable types: 30 continuous, 100 integer (100 binary)\n",
      "Coefficient statistics:\n",
      "  Matrix range     [1e+00, 4e+01]\n",
      "  Objective range  [1e+00, 5e+00]\n",
      "  Bounds range     [1e+00, 1e+00]\n",
      "  RHS range        [1e+00, 4e+01]\n",
      "Presolve removed 30 rows and 65 columns\n",
      "Presolve time: 0.00s\n",
      "Presolved: 100 rows, 65 columns, 290 nonzeros\n",
      "Variable types: 20 continuous, 45 integer (45 binary)\n",
      "Found heuristic solution: objective 440.0000000\n",
      "Found heuristic solution: objective 439.0000000\n",
      "\n",
      "Root relaxation: objective 0.000000e+00, 42 iterations, 0.00 seconds (0.00 work units)\n",
      "\n",
      "    Nodes    |    Current Node    |     Objective Bounds      |     Work\n",
      " Expl Unexpl |  Obj  Depth IntInf | Incumbent    BestBd   Gap | It/Node Time\n",
      "\n",
      "     0     0    0.00000    0   10  439.00000    0.00000   100%     -    0s\n",
      "H    0     0                     421.0000000    0.00000   100%     -    0s\n",
      "H    0     0                     419.0000000    0.00000   100%     -    0s\n",
      "H    0     0                     399.0000000    0.00000   100%     -    0s\n",
      "H    0     0                     384.0000000    0.00000   100%     -    0s\n",
      "H    0     0                     354.0000000    0.00000   100%     -    0s\n",
      "H    0     0                     350.0000000    0.00000   100%     -    0s\n",
      "     0     0   10.14286    0   16  350.00000   10.14286  97.1%     -    0s\n",
      "H    0     0                     348.0000000   12.00000  96.6%     -    0s\n",
      "     0     0   12.00000    0   16  348.00000   12.00000  96.6%     -    0s\n",
      "H    0     0                     344.0000000   13.00000  96.2%     -    0s\n",
      "     0     0   13.00000    0   15  344.00000   13.00000  96.2%     -    0s\n",
      "H    0     0                     334.0000000   13.00000  96.1%     -    0s\n",
      "     0     0   32.00000    0   17  334.00000   32.00000  90.4%     -    0s\n",
      "     0     0   32.00000    0   18  334.00000   32.00000  90.4%     -    0s\n",
      "     0     0   44.00000    0   17  334.00000   44.00000  86.8%     -    0s\n",
      "     0     0   44.00000    0   17  334.00000   44.00000  86.8%     -    0s\n",
      "H    0     0                     330.0000000   44.00000  86.7%     -    0s\n",
      "H    0     0                     310.0000000   44.00000  85.8%     -    0s\n",
      "H    0     0                     288.0000000   44.00000  84.7%     -    0s\n",
      "H    0     2                     285.0000000   44.00000  84.6%     -    0s\n",
      "     0     2   44.00000    0   14  285.00000   44.00000  84.6%     -    0s\n",
      "H   31    44                     282.0000000   44.00000  84.4%  26.4    0s\n",
      "H   34    44                     279.0000000   44.00000  84.2%  25.0    0s\n",
      "H   42    44                     252.0000000   48.87500  80.6%  24.4    0s\n",
      "H   77   100                     244.0000000   52.88171  78.3%  18.8    0s\n",
      "H  129   149                     241.0000000   66.00000  72.6%  14.3    0s\n",
      "* 5148   973              22     235.0000000  134.15341  42.9%   5.0    0s\n",
      "\n",
      "Cutting planes:\n",
      "  Gomory: 12\n",
      "  Implied bound: 47\n",
      "  MIR: 112\n",
      "  Inf proof: 14\n",
      "  Relax-and-lift: 8\n",
      "\n",
      "Explored 15191 nodes (68414 simplex iterations) in 1.16 seconds (0.23 work units)\n",
      "Thread count was 20 (of 20 available processors)\n",
      "\n",
      "Solution count 10: 235 241 244 ... 330\n",
      "\n",
      "Optimal solution found (tolerance 1.00e-04)\n",
      "Best objective 2.350000000000e+02, best bound 2.350000000000e+02, gap 0.0000%\n"
     ]
    }
   ],
   "source": [
    "# Create a new model\n",
    "model = Model(\"Single Machine Weighted Tardiness Scheduling\")\n",
    "\n",
    "# Decision variables\n",
    "S = model.addVars(n, vtype=GRB.CONTINUOUS, name=\"S\")  # Start times\n",
    "C = model.addVars(n, vtype=GRB.CONTINUOUS, name=\"C\")  # Completion times\n",
    "T = model.addVars(n, vtype=GRB.CONTINUOUS, name=\"T\")  # Tardiness\n",
    "y = model.addVars(n, n, vtype=GRB.BINARY, name=\"y\")  # Job order binary variables\n",
    "\n",
    "# Objective function: Minimize total weighted tardiness\n",
    "model.setObjective(sum(w[i] * T[i] for i in range(n)), GRB.MINIMIZE)\n",
    "\n",
    "# Constraints\n",
    "# Completion time constraints\n",
    "for i in range(n):\n",
    "    model.addConstr(C[i] == S[i] + p[i], name=f\"Completion_{i}\")\n",
    "\n",
    "# Release time constraints\n",
    "for i in range(n):\n",
    "    model.addConstr(S[i] >= r[i], name=f\"Release_{i}\")\n",
    "\n",
    "# Tardiness constraints\n",
    "for i in range(n):\n",
    "    model.addConstr(T[i] >= C[i] - d[i], name=f\"Tardiness_{i}\")\n",
    "    model.addConstr(T[i] >= 0, name=f\"Non_negative_tardiness_{i}\")\n",
    "\n",
    "# Non-overlapping constraints (Big-M constraints)\n",
    "for i in range(n):\n",
    "    for j in range(i + 1, n):\n",
    "        model.addConstr(S[j] >= C[i] - M * (1 - y[i, j]), name=f\"No_overlap_{i}_{j}_1\")\n",
    "        model.addConstr(S[i] >= C[j] - M * y[i, j], name=f\"No_overlap_{i}_{j}_2\")\n",
    "\n",
    "# Optimize the model\n",
    "model.optimize()\n"
   ]
  },
  {
   "cell_type": "markdown",
   "id": "5113bdc1-45bf-45c0-ab3f-2b1c76eb33b8",
   "metadata": {},
   "source": [
    "## Extract and Print Results\n",
    "\n",
    "Once the optimization is complete, we extract:\n",
    "- Start times (`S`).\n",
    "- Completion times (`C`).\n",
    "- Tardiness (`T`).\n",
    "- Job order (based on start times).\n"
   ]
  },
  {
   "cell_type": "code",
   "execution_count": 40,
   "id": "ea835fab-82e9-4b2a-a671-7aa0aedb85e0",
   "metadata": {},
   "outputs": [
    {
     "name": "stdout",
     "output_type": "stream",
     "text": [
      "\n",
      "Results:\n",
      "Job 1: Start time = 26.00, Completion time = 32.00, Tardiness = 14.00\n",
      "Job 2: Start time = 0.00, Completion time = 3.00, Tardiness = 0.00\n",
      "Job 3: Start time = 25.00, Completion time = 26.00, Tardiness = 7.00\n",
      "Job 4: Start time = 6.00, Completion time = 11.00, Tardiness = 0.00\n",
      "Job 5: Start time = 11.00, Completion time = 19.00, Tardiness = 5.00\n",
      "Job 6: Start time = 3.00, Completion time = 6.00, Tardiness = 0.00\n",
      "Job 7: Start time = 19.00, Completion time = 21.00, Tardiness = 3.00\n",
      "Job 8: Start time = 21.00, Completion time = 25.00, Tardiness = 3.00\n",
      "Job 9: Start time = 40.00, Completion time = 44.00, Tardiness = 32.00\n",
      "Job 10: Start time = 32.00, Completion time = 40.00, Tardiness = 27.00\n",
      "\n",
      "Job Order: [8, 1, 7, 3, 4, 2, 5, 6, 10, 9]\n"
     ]
    }
   ],
   "source": [
    "# Extract the job sequence\n",
    "job_sequence = sorted(range(n), key=lambda i: S[i].x)\n",
    "job_order = [0] * n\n",
    "for position, job_index in enumerate(job_sequence):\n",
    "    job_order[job_index] = position + 1\n",
    "\n",
    "# Print the results\n",
    "print(\"\\nResults:\")\n",
    "for i in range(n):\n",
    "    print(\n",
    "        f\"Job {i + 1}: Start time = {S[i].x:.2f}, Completion time = {C[i].x:.2f}, Tardiness = {T[i].x:.2f}\"\n",
    "    )\n",
    "\n",
    "print(\"\\nJob Order:\", job_order)"
   ]
  },
  {
   "cell_type": "code",
   "execution_count": null,
   "id": "9728861f-7f0f-4c04-8bd2-5897c22ee523",
   "metadata": {},
   "outputs": [],
   "source": []
  }
 ],
 "metadata": {
  "kernelspec": {
   "display_name": "Python 3 (ipykernel)",
   "language": "python",
   "name": "python3"
  },
  "language_info": {
   "codemirror_mode": {
    "name": "ipython",
    "version": 3
   },
   "file_extension": ".py",
   "mimetype": "text/x-python",
   "name": "python",
   "nbconvert_exporter": "python",
   "pygments_lexer": "ipython3",
   "version": "3.12.7"
  }
 },
 "nbformat": 4,
 "nbformat_minor": 5
}
