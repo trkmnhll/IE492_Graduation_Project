{
 "cells": [
  {
   "cell_type": "markdown",
   "id": "57a9eb4c-fbcb-4075-ac8f-0dbfb7462ac9",
   "metadata": {},
   "source": [
    "# Job Scheduling with WATC Heuristic\n",
    "\n",
    "This notebook demonstrates the process of generating job instances and solving the scheduling problem using the WATC (Weighted Average Tardiness Cost) heuristic. It generates job data with specific distributions and calculates the corresponding weighted tardiness for each job schedule.\n",
    "\n",
    "---\n",
    "\n",
    "### Importing Required Libraries\n",
    "We import the necessary libraries: `csv` for data storage, `random` for random number generation, `math` for mathematical operations, and `numpy` for handling numerical arrays.\n"
   ]
  },
  {
   "cell_type": "code",
   "execution_count": 1,
   "id": "dab5826e-2443-427f-86a6-0fcac9d5c73d",
   "metadata": {},
   "outputs": [],
   "source": [
    "import csv\n",
    "import random\n",
    "import math\n",
    "import numpy as np\n",
    "\n",
    "random.seed(444)"
   ]
  },
  {
   "cell_type": "markdown",
   "id": "866edf07-71a1-4a3b-ab1a-27f59b668a0b",
   "metadata": {},
   "source": [
    "### Generating Job Instances\n",
    "\n",
    "In this section, we define a function to generate synthetic instances of job data. Each job has the following attributes:\n",
    "- **Processing Time**: Randomly generated from a uniform distribution between 1 and 8.\n",
    "- **Due Date**: Calculated as a deviation from the cumulative processing time, with the delta randomly chosen from a uniform distribution between -10 and 14.\n",
    "- **Weights**: Randomly assigned from a uniform distribution between 1 and 6.\n",
    "\n",
    "This function generates `n` jobs with these random attributes.\n"
   ]
  },
  {
   "cell_type": "code",
   "execution_count": 2,
   "id": "afe4d9b9-92f1-4fb8-b639-37b9d46cfb93",
   "metadata": {},
   "outputs": [],
   "source": [
    "def generate_instance(n=50):\n",
    "    # Generate processing times (uniform between 1 and 8)\n",
    "    processing_times = [random.randint(1, 8) for _ in range(n)]\n",
    "    \n",
    "    # Compute completion times (but not actually the completion time but interpret as cumulative sums of processing times)\n",
    "    completion_times = [sum(processing_times[:i+1]) for i in range(n)]\n",
    "    \n",
    "    # Generate due dates with a delta deviation from completion times (uniform between -10 and 14)\n",
    "    delta_range = (-10, 14)\n",
    "    due_dates = [\n",
    "        max(processing_times[i], completion_times[i] + random.randint(*delta_range))  # Ensure the due dates can be at least processing times\n",
    "        for i in range(n)\n",
    "    ]\n",
    "\n",
    "    # Generate weights (uniform between 1 and 6)\n",
    "    weights = [random.randint(1, 6) for _ in range(n)]\n",
    "\n",
    "    #if the dataset is wanted to be shuffled then uncomment this part:\n",
    "    #combined = list(zip(processing_times, weights, due_dates))\n",
    "    #random.shuffle(combined)\n",
    "    #processing_times_shuffled, weights_shuffled, due_dates_shuffled = zip(*combined)\n",
    "    #processing_times = list(processing_times_shuffled)\n",
    "    #weights = list(weights_shuffled)\n",
    "    #due_dates = list(due_dates_shuffled)\n",
    "    return processing_times, weights, due_dates\n"
   ]
  },
  {
   "cell_type": "markdown",
   "id": "a1041e77-e4d2-45d3-9074-27950d8bf107",
   "metadata": {},
   "source": [
    "### WATC Heuristic\n",
    "\n",
    "In this section, we define the WATC heuristic algorithm. The key idea is to calculate an \"urgency\" score for each job based on:\n",
    "- **Weight of the job**\n",
    "- **Processing time of the job**\n",
    "- **Deviation of the job's due date from the current time**\n",
    "\n",
    "Jobs are scheduled based on the highest urgency score, and after each job is scheduled, the average processing time is recalculated. This continues until all jobs are scheduled.\n",
    "\n",
    "The function returns the schedule of jobs sorted by this heuristic.\n"
   ]
  },
  {
   "cell_type": "code",
   "execution_count": 3,
   "id": "65d5940c-7d08-46ed-8fc5-40603cea8f72",
   "metadata": {},
   "outputs": [],
   "source": [
    "def watc(processing_times, weights, due_dates):\n",
    "    n = len(processing_times)\n",
    "    jobs = list(range(n))\n",
    "    p_avg = np.mean(processing_times)  # Initialize p_avg with the mean of all processing times\n",
    "    k = 1\n",
    "    C = 0\n",
    "\n",
    "    scheduled_jobs = []\n",
    "    remaining_jobs = jobs.copy()\n",
    "\n",
    "    for _ in range(n):\n",
    "        urgency = []\n",
    "        for j in remaining_jobs:\n",
    "            urgency_j = (weights[j] / processing_times[j]) * math.exp(-max(due_dates[j] - C, 0) / (k * p_avg))\n",
    "            urgency.append((urgency_j, j))\n",
    "\n",
    "        urgency.sort(reverse=True)  # Sort in descending order\n",
    "        next_job = urgency[0][1]\n",
    "        scheduled_jobs.append(next_job)\n",
    "        remaining_jobs.remove(next_job)\n",
    "        C += processing_times[next_job]\n",
    "        \n",
    "        if remaining_jobs:  # Only update p_avg if remaining jobs exist\n",
    "            p_avg = np.mean([processing_times[j] for j in remaining_jobs])\n",
    "\n",
    "    return scheduled_jobs\n"
   ]
  },
  {
   "cell_type": "markdown",
   "id": "dad74c02-4711-4c9c-91c1-aa9d965db2b3",
   "metadata": {},
   "source": [
    "### Calculating Weighted Tardiness\n",
    "\n",
    "Once a schedule is obtained, we calculate the **weighted tardiness** for the schedule. The tardiness for each job is defined as the difference between its completion time and due date, but only if the job finishes after its due date (otherwise, tardiness is zero).\n",
    "\n",
    "The weighted tardiness is the sum of the tardiness values weighted by the job's weight."
   ]
  },
  {
   "cell_type": "code",
   "execution_count": 4,
   "id": "da7b5f07-58c8-4139-9ae3-652668e9ebf4",
   "metadata": {},
   "outputs": [],
   "source": [
    "def calculate_weighted_tardiness(schedule, processing_times, weights, due_dates):\n",
    "    n = len(schedule)\n",
    "    C = [0] * n\n",
    "    T = [0] * n\n",
    "    C[0] = processing_times[schedule[0]]\n",
    "    T[0] = max(0, C[0] - due_dates[schedule[0]])\n",
    "    for i in range(1, n):\n",
    "        C[i] = C[i-1] + processing_times[schedule[i]]\n",
    "        T[i] = max(0, C[i] - due_dates[schedule[i]])\n",
    "    weighted_tardiness = sum(weights[j] * T[j] for j in schedule)\n",
    "    return weighted_tardiness\n"
   ]
  },
  {
   "cell_type": "markdown",
   "id": "ed753bd4-48c9-4c35-bbf5-4253cec07511",
   "metadata": {},
   "source": [
    "### Generating Multiple Instances and Storing Results\n",
    "\n",
    "This section generates multiple job instances, schedules them using the WATC heuristic, calculates their weighted tardiness, and writes the results to a CSV file. The CSV contains the following columns:\n",
    "- Instance ID\n",
    "- Processing Times\n",
    "- Weights\n",
    "- Due Dates\n",
    "- WATC Schedule\n",
    "- WATC Weighted Tardiness"
   ]
  },
  {
   "cell_type": "code",
   "execution_count": 6,
   "id": "ad832449-00c4-407a-a52f-27afd21ecd55",
   "metadata": {},
   "outputs": [
    {
     "name": "stdout",
     "output_type": "stream",
     "text": [
      "Instances generated and saved to heuristics3.csv\n"
     ]
    }
   ],
   "source": [
    "num_instances = 1000\n",
    "filename = \"heuristics3.csv\"\n",
    "\n",
    "with open(filename, 'w', newline='') as csvfile:\n",
    "    fieldnames = ['Instance ID', 'Processing Times', 'Weights', 'Due Dates', 'WATC Schedule', 'WATC Weighted Tardiness']\n",
    "    writer = csv.writer(csvfile)\n",
    "\n",
    "    for i in range(num_instances):\n",
    "        p, w, d = generate_instance()\n",
    "        watc_schedule = watc(p, w, d)\n",
    "\n",
    "        # Job data in the new format\n",
    "        job_data = [[p[j], w[j], d[j]] for j in range(len(p))]\n",
    "        # Binary indicator for WATC\n",
    "        watc_indicator = [1 if idx == watc_schedule[0] else 0 for idx in range(len(p))]\n",
    "        # Job sequence\n",
    "        watc_sequence = [j + 1 for j in watc_schedule]  # Convert to 1-based indexing\n",
    "        # Write job data on the first row\n",
    "        writer.writerow([job_data])\n",
    "        # Write WATC indicator on the second row\n",
    "        writer.writerow([watc_indicator])\n",
    "        # Write WATC job sequence on the third row\n",
    "        writer.writerow([watc_sequence])\n",
    "\n",
    "print(f\"Instances generated and saved to {filename}\")"
   ]
  },
  {
   "cell_type": "code",
   "execution_count": null,
   "id": "ac62875d-5b49-4874-a057-ac8bd2886db1",
   "metadata": {},
   "outputs": [],
   "source": []
  }
 ],
 "metadata": {
  "kernelspec": {
   "display_name": "base",
   "language": "python",
   "name": "python3"
  },
  "language_info": {
   "codemirror_mode": {
    "name": "ipython",
    "version": 3
   },
   "file_extension": ".py",
   "mimetype": "text/x-python",
   "name": "python",
   "nbconvert_exporter": "python",
   "pygments_lexer": "ipython3",
   "version": "3.9.7"
  }
 },
 "nbformat": 4,
 "nbformat_minor": 5
}
