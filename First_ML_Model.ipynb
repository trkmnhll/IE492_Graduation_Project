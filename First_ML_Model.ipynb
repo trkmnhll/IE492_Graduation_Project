{
 "cells": [
  {
   "cell_type": "code",
   "execution_count": 1,
   "metadata": {},
   "outputs": [],
   "source": [
    "import numpy as np\n",
    "import torch\n",
    "import torch.nn as nn\n",
    "import torch.optim as optim"
   ]
  },
  {
   "cell_type": "markdown",
   "metadata": {},
   "source": [
    "# Importing Data\n",
    "\n",
    "The inputs and results are given as an input and target to neural network. It will be used for training the model. In this model, we define a coefficient to each job which we called a_i. With this coefficient, we reduce our jobs' dimensions 4 to 1. Then ML system try to learn relation between this a_i and the actual schedule. "
   ]
  },
  {
   "cell_type": "code",
   "execution_count": 2,
   "metadata": {},
   "outputs": [],
   "source": [
    "def load_data_from_file(filename):\n",
    "    inputs, targets = [], []\n",
    "    with open(filename, 'r') as file:\n",
    "        lines = file.readlines()\n",
    "        for i in range(0, len(lines), 2):\n",
    "            input_list = np.array([float(x) for x in lines[i].strip().split()], dtype=np.float32)\n",
    "            inputs.append(input_list)\n",
    "            \n",
    "            target_list = np.array([int(x) for x in lines[i + 1].strip().split()], dtype=np.float32)\n",
    "            targets.append(target_list)\n",
    "            \n",
    "    return np.array(inputs, dtype=np.float32), np.array(targets, dtype=np.float32)\n",
    "\n",
    "file = 'data.txt'\n",
    "inputs, targets = load_data_from_file(file)\n",
    "inputs = np.array(inputs, dtype=np.float32)\n",
    "targets = np.array(targets, dtype=np.float32)"
   ]
  },
  {
   "cell_type": "markdown",
   "metadata": {},
   "source": [
    "# Defining The Network\n",
    "\n",
    "Our Neural Network System is defined as a class with dimension 10."
   ]
  },
  {
   "cell_type": "code",
   "execution_count": 3,
   "metadata": {},
   "outputs": [],
   "source": [
    "class RankNet(nn.Module):\n",
    "    def __init__(self):\n",
    "        super(RankNet, self).__init__()\n",
    "        self.hidden = nn.Linear(10, 50)\n",
    "        self.output = nn.Linear(50, 10)\n",
    "        self.sigmoid = nn.Sigmoid()  \n",
    "\n",
    "    def forward(self, x):\n",
    "        x = self.sigmoid(self.hidden(x))\n",
    "        x = self.output(x) \n",
    "        return x"
   ]
  },
  {
   "cell_type": "markdown",
   "metadata": {},
   "source": [
    "# Creating The Network\n",
    "\n",
    "Our model is created as an object and its loss function and optimizer is created."
   ]
  },
  {
   "cell_type": "code",
   "execution_count": 4,
   "metadata": {},
   "outputs": [],
   "source": [
    "model = RankNet()\n",
    "criterion = nn.MSELoss()\n",
    "optimizer = optim.Adam(model.parameters(), lr=0.01)\n",
    "\n",
    "inputs_tensor = torch.tensor(inputs)\n",
    "targets_tensor = torch.tensor(targets)\n",
    "\n",
    "if len(inputs_tensor.shape) == 1 or inputs_tensor.shape[1] != 10:\n",
    "    inputs_tensor = inputs_tensor.view(-1, 10) "
   ]
  },
  {
   "cell_type": "markdown",
   "metadata": {},
   "source": [
    "# Training\n",
    "\n",
    "Our model is trained(calculate the loss and reconfigure its coefficients)."
   ]
  },
  {
   "cell_type": "code",
   "execution_count": 5,
   "metadata": {},
   "outputs": [
    {
     "name": "stdout",
     "output_type": "stream",
     "text": [
      "Epoch [100/1000], Loss: 8.1370\n",
      "Epoch [200/1000], Loss: 7.9350\n",
      "Epoch [300/1000], Loss: 7.8177\n",
      "Epoch [400/1000], Loss: 7.7432\n",
      "Epoch [500/1000], Loss: 7.6779\n",
      "Epoch [600/1000], Loss: 7.6130\n",
      "Epoch [700/1000], Loss: 7.5502\n",
      "Epoch [800/1000], Loss: 7.4999\n",
      "Epoch [900/1000], Loss: 7.4600\n",
      "Epoch [1000/1000], Loss: 7.4107\n"
     ]
    }
   ],
   "source": [
    "epochs = 1000  \n",
    "for epoch in range(epochs):\n",
    "    optimizer.zero_grad()\n",
    "    outputs = model(inputs_tensor)\n",
    "    loss = criterion(outputs, targets_tensor)\n",
    "    loss.backward()\n",
    "    optimizer.step()\n",
    "    if (epoch + 1) % 100 == 0:\n",
    "        print(f'Epoch [{epoch+1}/{epochs}], Loss: {loss.item():.4f}')\n",
    "        "
   ]
  },
  {
   "cell_type": "markdown",
   "metadata": {},
   "source": [
    "# Calculating Schedules For New Problem\n",
    "\n",
    "The model will predict a schedule for new input set in line with its previous coefficents"
   ]
  },
  {
   "cell_type": "code",
   "execution_count": 6,
   "metadata": {},
   "outputs": [
    {
     "name": "stdout",
     "output_type": "stream",
     "text": [
      "Test Input: tensor([ 6.0000,  6.0000,  4.2000,  2.5000, 21.0000,  4.4000,  6.0000,  5.7500,\n",
      "         5.6700, 13.0000])\n",
      "Predicted Ranks (as indices): [ 6  9  5  2  1  8  4  7  3 10]\n",
      "tensor([5.3943, 5.2011, 5.8840, 5.6313, 5.1819, 5.0427, 5.6822, 5.5456, 5.1434,\n",
      "        6.2217])\n"
     ]
    }
   ],
   "source": [
    "test_input = torch.tensor([6.00,6.00,4.20,2.50,21.00,4.40,6.00,5.75,5.67,13.00])\n",
    "model.eval()\n",
    "with torch.no_grad():\n",
    "    test_output = model(test_input)\n",
    "\n",
    "print(\"Test Input:\", test_input)\n",
    "print(\"Predicted Ranks (as indices):\", test_output.flatten().numpy().argsort() + 1)\n",
    "print(test_output)"
   ]
  }
 ],
 "metadata": {
  "kernelspec": {
   "display_name": "base",
   "language": "python",
   "name": "python3"
  },
  "language_info": {
   "codemirror_mode": {
    "name": "ipython",
    "version": 3
   },
   "file_extension": ".py",
   "mimetype": "text/x-python",
   "name": "python",
   "nbconvert_exporter": "python",
   "pygments_lexer": "ipython3",
   "version": "3.9.7"
  }
 },
 "nbformat": 4,
 "nbformat_minor": 2
}
